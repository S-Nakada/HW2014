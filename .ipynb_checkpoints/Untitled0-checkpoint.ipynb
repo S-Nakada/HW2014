{
 "metadata": {
  "name": "",
  "signature": "sha256:ab9960c9f9cdb5cc1465742289165e1c9dfdc4c0d767939015c037546606255e"
 },
 "nbformat": 3,
 "nbformat_minor": 0,
 "worksheets": []
}