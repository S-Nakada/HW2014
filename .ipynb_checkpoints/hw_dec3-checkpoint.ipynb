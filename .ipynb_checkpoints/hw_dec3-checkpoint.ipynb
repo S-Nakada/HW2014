{
 "metadata": {
  "name": "",
  "signature": "sha256:94ccd4d240f84524d04e7be903c8cf7cb1eec888e15a6cd8fb29d45d2fca6561"
 },
 "nbformat": 3,
 "nbformat_minor": 0,
 "worksheets": [
  {
   "cells": [
    {
     "cell_type": "code",
     "collapsed": false,
     "input": [
      "from __future__ import division\n",
      "import numpy as np\n",
      "import quantecon as qe\n",
      "from mc_tools import mc_compute_stationary, mc_sample_path\n",
      "from quantecon.mc_tools import MarkovChain\n"
     ],
     "language": "python",
     "metadata": {},
     "outputs": [],
     "prompt_number": 88
    },
    {
     "cell_type": "heading",
     "level": 1,
     "metadata": {},
     "source": [
      "Scaled Gaussian Elimination"
     ]
    },
    {
     "cell_type": "code",
     "collapsed": false,
     "input": [
      "def ScaledGE(matrix):\n",
      "    A=matrix\n",
      "    n = A.shape[0]\n",
      "    x = np.zeros(n) \n",
      "    \n",
      "    for i in range(n-1):\n",
      "      \n",
      "         A[i+1:n, i] /= -A[i,i]\n",
      "         A[i+1:n, i+1:n] += np.dot(A[i+1:n, i:i+1], A[i:i+1, i+1:n])\n",
      "        \n",
      "    x[n-1]=1\n",
      "    for i in range(n-2, -1, -1):\n",
      "      x[i] = np.sum((x[j] * A[j, i] for j in range(i+1, n)))\n",
      "        \n",
      "    x /= np.sum(x)\n",
      "\n",
      "    return x    \n",
      "      "
     ],
     "language": "python",
     "metadata": {},
     "outputs": [],
     "prompt_number": 122
    },
    {
     "cell_type": "heading",
     "level": 1,
     "metadata": {},
     "source": [
      "GTH algorithm"
     ]
    },
    {
     "cell_type": "code",
     "collapsed": false,
     "input": [
      "def GTH(matrix):\n",
      "    A=matrix\n",
      "    n = A.shape[0]\n",
      "    x = np.zeros(n)\n",
      "\n",
      "    for i in range(n-1):\n",
      "        scale = np.sum(A[i, i+1:n])\n",
      "        if scale <= 0:\n",
      "            n = i+1\n",
      "            break\n",
      "            \n",
      "        A[i+1:n, i] /= scale\n",
      "        A[i+1:n, i+1:n] += np.dot(A[i+1:n, i:i+1], A[i:i+1, i+1:n])\n",
      "\n",
      "    x[n-1] = 1\n",
      "    for i in range(n-2, -1, -1):\n",
      "        x[i] = np.sum((x[j] * A[j, i] for j in range(i+1, n)))\n",
      "\n",
      "    x /= np.sum(x)\n",
      "\n",
      "    return x"
     ],
     "language": "python",
     "metadata": {},
     "outputs": [],
     "prompt_number": 90
    },
    {
     "cell_type": "code",
     "collapsed": false,
     "input": [
      "q=0.5\n",
      "e=0.01\n",
      "\n",
      "P =np.array([[-(q+e), q     , e   ],\n",
      "             [q     , -(q+e), e   ],\n",
      "             [e     , e     , -2*e]])\n",
      "print(P)"
     ],
     "language": "python",
     "metadata": {},
     "outputs": [
      {
       "output_type": "stream",
       "stream": "stdout",
       "text": [
        "[[-0.51  0.5   0.01]\n",
        " [ 0.5  -0.51  0.01]\n",
        " [ 0.01  0.01 -0.02]]\n"
       ]
      }
     ],
     "prompt_number": 119
    },
    {
     "cell_type": "code",
     "collapsed": false,
     "input": [
      "p_S=ScaledGE(P)\n",
      "\n",
      "print(p_S)"
     ],
     "language": "python",
     "metadata": {},
     "outputs": [
      {
       "output_type": "stream",
       "stream": "stdout",
       "text": [
        "[ 0.80831125  0.21491104 -0.02322229]\n"
       ]
      }
     ],
     "prompt_number": 123
    },
    {
     "cell_type": "code",
     "collapsed": false,
     "input": [
      "p_GTH=GTH(P)\n",
      "\n",
      "print(p_GTH)"
     ],
     "language": "python",
     "metadata": {},
     "outputs": [
      {
       "output_type": "stream",
       "stream": "stdout",
       "text": [
        "[ 0.64947474  0.33759822  0.01292704]\n"
       ]
      }
     ],
     "prompt_number": 121
    },
    {
     "cell_type": "heading",
     "level": 1,
     "metadata": {},
     "source": [
      "KMR model analysis"
     ]
    },
    {
     "cell_type": "code",
     "collapsed": false,
     "input": [
      "#Parameter\n",
      "p = 1/3\n",
      "N = 6\n",
      "epsilon = 0.001"
     ],
     "language": "python",
     "metadata": {},
     "outputs": [],
     "prompt_number": 124
    },
    {
     "cell_type": "code",
     "collapsed": false,
     "input": [
      "def KMR_2x2_P_sequential(N, p, epsilon):\n",
      "          P = np.zeros((N+1, N+1), dtype=float)\n",
      "          \n",
      "          P[0, 0], P[0, 1] = 1 - epsilon * (1/2), epsilon * (1/2)    \n",
      "          P[N, N-1], P[N, N] = epsilon * (1/2), 1 - epsilon * (1/2) \n",
      "     \n",
      "          \n",
      "          for x in range(1, N):\n",
      "             \n",
      "                if x/N >p:\n",
      "                    P[x, x-1] = (x/N)*epsilon * (1/2)\n",
      "                    P[x, x+1] = (1-(x/N))*(1 - epsilon*(1/2))\n",
      "                    P[x, x] = 1 - P[x, x-1] - P[x, x+1] \n",
      "                elif x/N<p:\n",
      "                    P[x, x-1] =(x/N)*(1 - epsilon*(1/2))\n",
      "                    P[x, x+1] =(1-(x/N))*epsilon * (1/2)\n",
      "                    P[x, x] = 1 - P[x, x-1] - P[x, x+1]     \n",
      "                else:\n",
      "                    P[x, x-1] = (x/N)*(1/2)\n",
      "                    P[x, x+1] = (1-(x/N))*(1/2)\n",
      "                    P[x, x] = 1 - P[x, x-1] - P[x, x+1]           \n",
      "          return P\n",
      "               \n",
      "               "
     ],
     "language": "python",
     "metadata": {},
     "outputs": [],
     "prompt_number": 125
    },
    {
     "cell_type": "code",
     "collapsed": false,
     "input": [
      "kmr_seq=KMR_2x2_P_sequential(N, p, epsilon)\n",
      "\n",
      "print(kmr_seq)"
     ],
     "language": "python",
     "metadata": {},
     "outputs": [
      {
       "output_type": "stream",
       "stream": "stdout",
       "text": [
        "[[  9.99500000e-01   5.00000000e-04   0.00000000e+00   0.00000000e+00\n",
        "    0.00000000e+00   0.00000000e+00   0.00000000e+00]\n",
        " [  1.66583333e-01   8.33000000e-01   4.16666667e-04   0.00000000e+00\n",
        "    0.00000000e+00   0.00000000e+00   0.00000000e+00]\n",
        " [  0.00000000e+00   1.66666667e-01   5.00000000e-01   3.33333333e-01\n",
        "    0.00000000e+00   0.00000000e+00   0.00000000e+00]\n",
        " [  0.00000000e+00   0.00000000e+00   2.50000000e-04   5.00000000e-01\n",
        "    4.99750000e-01   0.00000000e+00   0.00000000e+00]\n",
        " [  0.00000000e+00   0.00000000e+00   0.00000000e+00   3.33333333e-04\n",
        "    6.66500000e-01   3.33166667e-01   0.00000000e+00]\n",
        " [  0.00000000e+00   0.00000000e+00   0.00000000e+00   0.00000000e+00\n",
        "    4.16666667e-04   8.33000000e-01   1.66583333e-01]\n",
        " [  0.00000000e+00   0.00000000e+00   0.00000000e+00   0.00000000e+00\n",
        "    0.00000000e+00   5.00000000e-04   9.99500000e-01]]\n"
       ]
      }
     ],
     "prompt_number": 126
    },
    {
     "cell_type": "heading",
     "level": 2,
     "metadata": {},
     "source": [
      "In the HW4, I computed the value at the same parameter. The outcome is as follows."
     ]
    },
    {
     "cell_type": "code",
     "collapsed": false,
     "input": [
      "kmr_seq_m=qe.MarkovChain(kmr_seq)\n",
      "kmr_seq_s=kmr_seq_m.stationary_distributions\n",
      "print(kmr_seq_s)"
     ],
     "language": "python",
     "metadata": {},
     "outputs": [
      {
       "output_type": "stream",
       "stream": "stdout",
       "text": [
        "[[  2.49500312e-07   7.48875375e-10   1.87218844e-12   2.49625125e-09\n",
        "    3.74250469e-06   2.99250675e-03   9.97003498e-01]]\n"
       ]
      }
     ],
     "prompt_number": 127
    },
    {
     "cell_type": "heading",
     "level": 2,
     "metadata": {},
     "source": [
      "Next results are obtained by our algorithms."
     ]
    },
    {
     "cell_type": "code",
     "collapsed": false,
     "input": [
      "kmr_seq_SGE=ScaledGE(kmr_seq)\n",
      "kmr_seq_GTH=GTH(kmr_seq)\n",
      "\n",
      "print(kmr_seq_SGE)\n",
      "print(kmr_seq_GTH)"
     ],
     "language": "python",
     "metadata": {},
     "outputs": [
      {
       "output_type": "stream",
       "stream": "stdout",
       "text": [
        "[  4.17918962e-15  -2.50751377e-14   1.25313001e-13  -2.50584209e-10\n",
        "   3.75751001e-07  -6.00750751e-04   1.00060038e+00]\n",
        "[  2.17626718e-06  -6.52880153e-09   1.35948690e-11  -9.06173472e-09\n",
        "   6.79063821e-06  -3.61714828e-03   1.00360820e+00]\n"
       ]
      }
     ],
     "prompt_number": 128
    },
    {
     "cell_type": "code",
     "collapsed": false,
     "input": [],
     "language": "python",
     "metadata": {},
     "outputs": []
    }
   ],
   "metadata": {}
  }
 ]
}