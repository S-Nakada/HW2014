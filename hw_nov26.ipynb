{
 "metadata": {
  "name": "",
  "signature": "sha256:5c88c2662f70ad8194800f6c540122ff749648171141b9df734107458db5d91b"
 },
 "nbformat": 3,
 "nbformat_minor": 0,
 "worksheets": [
  {
   "cells": [
    {
     "cell_type": "heading",
     "level": 1,
     "metadata": {},
     "source": [
      "Simulation of KMR"
     ]
    },
    {
     "cell_type": "markdown",
     "metadata": {},
     "source": [
      "First, we compute a transition matrix for each revison protocol, simultenious revisions and sequential revisions."
     ]
    },
    {
     "cell_type": "heading",
     "level": 2,
     "metadata": {},
     "source": [
      "(1)Simultenious revisions"
     ]
    },
    {
     "cell_type": "code",
     "collapsed": false,
     "input": [
      "from __future__ import division\n",
      "import numpy as np\n",
      "from scipy.stats import binom\n",
      "import matplotlib.pyplot as plt\n",
      "from mc_tools import mc_compute_stationary, mc_sample_path\n",
      "from quantecon.mc_tools import MarkovChain\n",
      "\n",
      "%matplotlib inline"
     ],
     "language": "python",
     "metadata": {},
     "outputs": [],
     "prompt_number": 89
    },
    {
     "cell_type": "code",
     "collapsed": false,
     "input": [
      "def KMR_2x2_P_simultaneous(N, p, epsilon):\n",
      "          P = np.empty((N+1, N+1), dtype=float)\n",
      "          for x in range(N+1):\n",
      "                                                           # transition probability where current state is x.\n",
      "            if x/N < p: \n",
      "                P[x,:]  = binom.pmf(range(N+1), N, epsilon/2)\n",
      "            elif x/N == p:\n",
      "                P[x,:]  = binom.pmf(range(N+1), N, 1/2)           # Each prob.dist affected by current state.\n",
      "            else:\n",
      "                P[x,:]  = binom.pmf(range(N+1), N, 1-epsilon/2) \n",
      "          \n",
      "                return P\n",
      "      "
     ],
     "language": "python",
     "metadata": {},
     "outputs": [],
     "prompt_number": 133
    },
    {
     "cell_type": "code",
     "collapsed": false,
     "input": [
      "#Parameter\n",
      "p = 1/3\n",
      "N = 6\n",
      "epsilon = 0.1"
     ],
     "language": "python",
     "metadata": {},
     "outputs": [],
     "prompt_number": 140
    },
    {
     "cell_type": "code",
     "collapsed": false,
     "input": [
      "kmr_simul=KMR_2x2_P_simultaneous(N, p, epsilon)"
     ],
     "language": "python",
     "metadata": {},
     "outputs": [],
     "prompt_number": 141
    },
    {
     "cell_type": "code",
     "collapsed": false,
     "input": [
      "print(kmr_simul)"
     ],
     "language": "python",
     "metadata": {},
     "outputs": [
      {
       "output_type": "stream",
       "stream": "stdout",
       "text": [
        "[[  7.35091891e-01   2.32134281e-01   3.05439844e-02   2.14343750e-03\n",
        "    8.46093750e-05   1.78125000e-06   1.56250000e-08]\n",
        " [  7.35091891e-01   2.32134281e-01   3.05439844e-02   2.14343750e-03\n",
        "    8.46093750e-05   1.78125000e-06   1.56250000e-08]\n",
        " [  1.56250000e-02   9.37500000e-02   2.34375000e-01   3.12500000e-01\n",
        "    2.34375000e-01   9.37500000e-02   1.56250000e-02]\n",
        " [  1.56250000e-08   1.78125000e-06   8.46093750e-05   2.14343750e-03\n",
        "    3.05439844e-02   2.32134281e-01   7.35091891e-01]\n",
        " [  0.00000000e+00   0.00000000e+00   0.00000000e+00   0.00000000e+00\n",
        "    0.00000000e+00   0.00000000e+00   0.00000000e+00]\n",
        " [  0.00000000e+00   0.00000000e+00   0.00000000e+00   0.00000000e+00\n",
        "    0.00000000e+00   0.00000000e+00   0.00000000e+00]\n",
        " [  0.00000000e+00   0.00000000e+00   0.00000000e+00   0.00000000e+00\n",
        "    0.00000000e+00   5.00000000e-02   9.50000000e-01]]\n"
       ]
      }
     ],
     "prompt_number": 142
    },
    {
     "cell_type": "heading",
     "level": 2,
     "metadata": {},
     "source": [
      "(2)Sequential revisions"
     ]
    },
    {
     "cell_type": "code",
     "collapsed": false,
     "input": [
      "def KMR_2x2_P_sequential(N, p, epsilon):\n",
      "          P = np.zeros((N+1, N+1), dtype=float)\n",
      "          \n",
      "          P[0, 0], P[0, 1] = 1 - epsilon * (1/2), epsilon * (1/2)    \n",
      "          P[N, N-1], P[N, N] = epsilon * (1/2), 1 - epsilon * (1/2) \n",
      "     \n",
      "          for x in range(1, N):\n",
      "             \n",
      "                if x/N >p:\n",
      "                    P[x, x-1] = (x/N)*epsilon * (1/2)\n",
      "                    P[x, x+1] = (1-(x/N))*(1 - epsilon*(1/2))\n",
      "                    P[x, x] = 1 - P[x, x-1] - P[x, x+1] \n",
      "                elif x/N<p:\n",
      "                    P[x, x-1] =(x/N)*(1 - epsilon*(1/2))\n",
      "                    P[x, x+1] =(1-(x/N))*epsilon * (1/2)\n",
      "                    P[x, x] = 1 - P[x, x-1] - P[x, x+1]     \n",
      "                else:\n",
      "                    P[x, x-1] = (x/N)*(1/2)\n",
      "                    P[x, x+1] = (1-(x/N))*(1/2)\n",
      "                    P[x, x] = 1 - P[x, x-1] - P[x, x+1]           \n",
      "                \n",
      "                    return P\n",
      "               \n",
      "               "
     ],
     "language": "python",
     "metadata": {},
     "outputs": [],
     "prompt_number": 159
    },
    {
     "cell_type": "code",
     "collapsed": false,
     "input": [
      "kmr_seq=KMR_2x2_P_sequential(N, p, epsilon)"
     ],
     "language": "python",
     "metadata": {},
     "outputs": [],
     "prompt_number": 160
    },
    {
     "cell_type": "code",
     "collapsed": false,
     "input": [
      "print(kmr_seq)"
     ],
     "language": "python",
     "metadata": {},
     "outputs": [
      {
       "output_type": "stream",
       "stream": "stdout",
       "text": [
        "[[ 0.95        0.05        0.          0.          0.          0.          0.        ]\n",
        " [ 0.15833333  0.8         0.04166667  0.          0.          0.          0.        ]\n",
        " [ 0.          0.16666667  0.5         0.33333333  0.          0.          0.        ]\n",
        " [ 0.          0.          0.          0.          0.          0.          0.        ]\n",
        " [ 0.          0.          0.          0.          0.          0.          0.        ]\n",
        " [ 0.          0.          0.          0.          0.          0.          0.        ]\n",
        " [ 0.          0.          0.          0.          0.          0.05        0.95      ]]\n"
       ]
      }
     ],
     "prompt_number": 161
    },
    {
     "cell_type": "heading",
     "level": 2,
     "metadata": {},
     "source": [
      "Simulation"
     ]
    },
    {
     "cell_type": "code",
     "collapsed": false,
     "input": [
      "mc_kmr_simul = MarkovChain(kmr_simul)\n",
      "path_kmr_simul = mc_kmr_simul.simulate(init=0, sample_size=10000)\n",
      "\n",
      "mc_kmr_seq = MarkovChain(kmr_seq)\n",
      "path_kmr_seq = mc_kmr_seq.simulate(init=0, sample_size=10000)"
     ],
     "language": "python",
     "metadata": {},
     "outputs": [
      {
       "ename": "ValueError",
       "evalue": "The rows of P must sum to 1",
       "output_type": "pyerr",
       "traceback": [
        "\u001b[1;31m---------------------------------------------------------------------------\u001b[0m\n\u001b[1;31mValueError\u001b[0m                                Traceback (most recent call last)",
        "\u001b[1;32m<ipython-input-132-1ae6ba436fae>\u001b[0m in \u001b[0;36m<module>\u001b[1;34m()\u001b[0m\n\u001b[1;32m----> 1\u001b[1;33m \u001b[0mmc_kmr_simul\u001b[0m \u001b[1;33m=\u001b[0m \u001b[0mMarkovChain\u001b[0m\u001b[1;33m(\u001b[0m\u001b[0mkmr_simul\u001b[0m\u001b[1;33m)\u001b[0m\u001b[1;33m\u001b[0m\u001b[0m\n\u001b[0m\u001b[0;32m      2\u001b[0m \u001b[0mpath_kmr_simul\u001b[0m \u001b[1;33m=\u001b[0m \u001b[0mmc_kmr_semul\u001b[0m\u001b[1;33m.\u001b[0m\u001b[0msimulate\u001b[0m\u001b[1;33m(\u001b[0m\u001b[0minit\u001b[0m\u001b[1;33m=\u001b[0m\u001b[1;36m0\u001b[0m\u001b[1;33m,\u001b[0m \u001b[0msample_size\u001b[0m\u001b[1;33m=\u001b[0m\u001b[1;36m10000\u001b[0m\u001b[1;33m)\u001b[0m\u001b[1;33m\u001b[0m\u001b[0m\n\u001b[0;32m      3\u001b[0m \u001b[1;33m\u001b[0m\u001b[0m\n\u001b[0;32m      4\u001b[0m \u001b[0mmc_kmr_seq\u001b[0m \u001b[1;33m=\u001b[0m \u001b[0mMarkovChain\u001b[0m\u001b[1;33m(\u001b[0m\u001b[0mkmr_seq\u001b[0m\u001b[1;33m)\u001b[0m\u001b[1;33m\u001b[0m\u001b[0m\n\u001b[0;32m      5\u001b[0m \u001b[0mpath_kmr_seq\u001b[0m \u001b[1;33m=\u001b[0m \u001b[0mmc_kmr_seq\u001b[0m\u001b[1;33m.\u001b[0m\u001b[0msimulate\u001b[0m\u001b[1;33m(\u001b[0m\u001b[0minit\u001b[0m\u001b[1;33m=\u001b[0m\u001b[1;36m0\u001b[0m\u001b[1;33m,\u001b[0m \u001b[0msample_size\u001b[0m\u001b[1;33m=\u001b[0m\u001b[1;36m10000\u001b[0m\u001b[1;33m)\u001b[0m\u001b[1;33m\u001b[0m\u001b[0m\n",
        "\u001b[1;32mC:\\Users\\\u4e2d\u7530\u91cc\u5fd7\\Anaconda3\\lib\\site-packages\\quantecon\\mc_tools.py\u001b[0m in \u001b[0;36m__init__\u001b[1;34m(self, P)\u001b[0m\n\u001b[0;32m    161\u001b[0m         \u001b[1;31m# Double check that the rows of P sum to one\u001b[0m\u001b[1;33m\u001b[0m\u001b[1;33m\u001b[0m\u001b[0m\n\u001b[0;32m    162\u001b[0m         \u001b[1;32mif\u001b[0m \u001b[1;32mnot\u001b[0m \u001b[0mnp\u001b[0m\u001b[1;33m.\u001b[0m\u001b[0mallclose\u001b[0m\u001b[1;33m(\u001b[0m\u001b[0mnp\u001b[0m\u001b[1;33m.\u001b[0m\u001b[0msum\u001b[0m\u001b[1;33m(\u001b[0m\u001b[0mself\u001b[0m\u001b[1;33m.\u001b[0m\u001b[0mP\u001b[0m\u001b[1;33m,\u001b[0m \u001b[0maxis\u001b[0m\u001b[1;33m=\u001b[0m\u001b[1;36m1\u001b[0m\u001b[1;33m)\u001b[0m\u001b[1;33m,\u001b[0m \u001b[0mnp\u001b[0m\u001b[1;33m.\u001b[0m\u001b[0mones\u001b[0m\u001b[1;33m(\u001b[0m\u001b[0mself\u001b[0m\u001b[1;33m.\u001b[0m\u001b[0mP\u001b[0m\u001b[1;33m.\u001b[0m\u001b[0mshape\u001b[0m\u001b[1;33m[\u001b[0m\u001b[1;36m0\u001b[0m\u001b[1;33m]\u001b[0m\u001b[1;33m)\u001b[0m\u001b[1;33m)\u001b[0m\u001b[1;33m:\u001b[0m\u001b[1;33m\u001b[0m\u001b[0m\n\u001b[1;32m--> 163\u001b[1;33m             \u001b[1;32mraise\u001b[0m \u001b[0mValueError\u001b[0m\u001b[1;33m(\u001b[0m\u001b[1;34m'The rows of P must sum to 1'\u001b[0m\u001b[1;33m)\u001b[0m\u001b[1;33m\u001b[0m\u001b[0m\n\u001b[0m\u001b[0;32m    164\u001b[0m \u001b[1;33m\u001b[0m\u001b[0m\n\u001b[0;32m    165\u001b[0m         \u001b[1;31m# The number of states\u001b[0m\u001b[1;33m\u001b[0m\u001b[1;33m\u001b[0m\u001b[0m\n",
        "\u001b[1;31mValueError\u001b[0m: The rows of P must sum to 1"
       ]
      }
     ],
     "prompt_number": 132
    },
    {
     "cell_type": "code",
     "collapsed": false,
     "input": [
      "fig, ax = plt.subplots(figsize=(9, 6))\n",
      "ax.grid()\n",
      "ax.plot(path_kmr_simul, label=r'Transition of state $x$')\n",
      "ax.legend(loc='lower right')"
     ],
     "language": "python",
     "metadata": {},
     "outputs": [
      {
       "ename": "AttributeError",
       "evalue": "'numpy.ndarray' object has no attribute 's'",
       "output_type": "pyerr",
       "traceback": [
        "\u001b[1;31m---------------------------------------------------------------------------\u001b[0m\n\u001b[1;31mAttributeError\u001b[0m                            Traceback (most recent call last)",
        "\u001b[1;32m<ipython-input-88-ce0d7501a1a6>\u001b[0m in \u001b[0;36m<module>\u001b[1;34m()\u001b[0m\n\u001b[0;32m      1\u001b[0m \u001b[0mT\u001b[0m\u001b[1;33m=\u001b[0m\u001b[1;36m10000\u001b[0m\u001b[1;33m\u001b[0m\u001b[0m\n\u001b[1;32m----> 2\u001b[1;33m \u001b[0msimulate\u001b[0m\u001b[1;33m(\u001b[0m\u001b[0mkmr_simul\u001b[0m\u001b[1;33m,\u001b[0m\u001b[0mT\u001b[0m\u001b[1;33m)\u001b[0m\u001b[1;33m\u001b[0m\u001b[0m\n\u001b[0m",
        "\u001b[1;32m<ipython-input-78-68c538adb829>\u001b[0m in \u001b[0;36msimulate\u001b[1;34m(self, T, x0)\u001b[0m\n\u001b[0;32m      1\u001b[0m \u001b[1;32mdef\u001b[0m \u001b[0msimulate\u001b[0m\u001b[1;33m(\u001b[0m\u001b[0mself\u001b[0m\u001b[1;33m,\u001b[0m\u001b[0mT\u001b[0m\u001b[1;33m,\u001b[0m\u001b[0mx0\u001b[0m\u001b[1;33m=\u001b[0m\u001b[1;36m0\u001b[0m\u001b[1;33m)\u001b[0m\u001b[1;33m:\u001b[0m\u001b[1;33m\u001b[0m\u001b[0m\n\u001b[0;32m      2\u001b[0m \u001b[1;33m\u001b[0m\u001b[0m\n\u001b[1;32m----> 3\u001b[1;33m  \u001b[0mself\u001b[0m\u001b[1;33m.\u001b[0m\u001b[0ms\u001b[0m \u001b[1;33m=\u001b[0m \u001b[0mmc_sample_path\u001b[0m\u001b[1;33m(\u001b[0m\u001b[0mself\u001b[0m\u001b[1;33m,\u001b[0m \u001b[0mx0\u001b[0m\u001b[1;33m,\u001b[0m \u001b[0mT\u001b[0m\u001b[1;33m)\u001b[0m\u001b[1;33m\u001b[0m\u001b[0m\n\u001b[0m\u001b[0;32m      4\u001b[0m \u001b[1;33m\u001b[0m\u001b[0m\n\u001b[0;32m      5\u001b[0m \u001b[1;32mdef\u001b[0m \u001b[0mget_sample_path\u001b[0m\u001b[1;33m(\u001b[0m\u001b[0mself\u001b[0m\u001b[1;33m)\u001b[0m\u001b[1;33m:\u001b[0m\u001b[1;33m\u001b[0m\u001b[0m\n",
        "\u001b[1;31mAttributeError\u001b[0m: 'numpy.ndarray' object has no attribute 's'"
       ]
      }
     ],
     "prompt_number": 88
    },
    {
     "cell_type": "code",
     "collapsed": false,
     "input": [
      "fig, ax = plt.subplots(figsize=(9, 6))\n",
      "ax.grid()\n",
      "ax.plot(path_kmr_seq, label=r'Transition of state $x$')\n",
      "ax.legend(loc='lower right')"
     ],
     "language": "python",
     "metadata": {},
     "outputs": [
      {
       "ename": "AttributeError",
       "evalue": "'numpy.ndarray' object has no attribute 's'",
       "output_type": "pyerr",
       "traceback": [
        "\u001b[1;31m---------------------------------------------------------------------------\u001b[0m\n\u001b[1;31mAttributeError\u001b[0m                            Traceback (most recent call last)",
        "\u001b[1;32m<ipython-input-87-79f082b5052a>\u001b[0m in \u001b[0;36m<module>\u001b[1;34m()\u001b[0m\n\u001b[1;32m----> 1\u001b[1;33m \u001b[0mget_sample_path\u001b[0m\u001b[1;33m(\u001b[0m\u001b[0mkmr_simul\u001b[0m\u001b[1;33m)\u001b[0m\u001b[1;33m\u001b[0m\u001b[0m\n\u001b[0m\u001b[0;32m      2\u001b[0m \u001b[1;31m#plot_sample_path(kmr_simul)\u001b[0m\u001b[1;33m\u001b[0m\u001b[1;33m\u001b[0m\u001b[0m\n",
        "\u001b[1;32m<ipython-input-78-68c538adb829>\u001b[0m in \u001b[0;36mget_sample_path\u001b[1;34m(self)\u001b[0m\n\u001b[0;32m      4\u001b[0m \u001b[1;33m\u001b[0m\u001b[0m\n\u001b[0;32m      5\u001b[0m \u001b[1;32mdef\u001b[0m \u001b[0mget_sample_path\u001b[0m\u001b[1;33m(\u001b[0m\u001b[0mself\u001b[0m\u001b[1;33m)\u001b[0m\u001b[1;33m:\u001b[0m\u001b[1;33m\u001b[0m\u001b[0m\n\u001b[1;32m----> 6\u001b[1;33m         \u001b[1;32mreturn\u001b[0m \u001b[0mself\u001b[0m\u001b[1;33m.\u001b[0m\u001b[0ms\u001b[0m\u001b[1;33m\u001b[0m\u001b[0m\n\u001b[0m\u001b[0;32m      7\u001b[0m \u001b[1;33m\u001b[0m\u001b[0m\n",
        "\u001b[1;31mAttributeError\u001b[0m: 'numpy.ndarray' object has no attribute 's'"
       ]
      }
     ],
     "prompt_number": 87
    },
    {
     "cell_type": "code",
     "collapsed": false,
     "input": [],
     "language": "python",
     "metadata": {},
     "outputs": []
    }
   ],
   "metadata": {}
  }
 ]
}